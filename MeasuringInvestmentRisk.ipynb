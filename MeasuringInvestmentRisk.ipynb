{
 "cells": [
  {
   "cell_type": "markdown",
   "metadata": {},
   "source": [
    "### What is risk?\n",
    "Variability is the best measure of risk we have. Imagine you invest $1000 in a stock that earns ON AVERAGE 15%/year. How did that 15% come about? Was it:\n",
    "- +14%, +16%, +13%, +17%\n",
    "<br><br>OR<br><br>\n",
    "- +50%, -40%, -40%, +50%\n",
    "<br><br>\n",
    "Notice that those both yield an average of 15%, but the way each stock got there was vastly different. In the first case, your money will earn a stable amount over time. In the second, there's large variability from year to year."
   ]
  },
  {
   "cell_type": "markdown",
   "metadata": {},
   "source": [
    "### Statistical Measures to Quantify Risk\n",
    "\n",
    "- Variance (S<sup>2</sup>) - Measures the dispersion of a set of data points around the mean (X bar is the mean) <br>\n",
    "<img src='assets/variance_equation.png'>\n",
    "- Standard Devation (S) - The square root of variance, it measures the average distance of data points from the mean"
   ]
  },
  {
   "cell_type": "code",
   "execution_count": 1,
   "metadata": {},
   "outputs": [],
   "source": [
    "import numpy as np\n",
    "import pandas as pd\n",
    "import yfinance as yf\n",
    "import matplotlib as plt"
   ]
  },
  {
   "cell_type": "code",
   "execution_count": 2,
   "metadata": {},
   "outputs": [
    {
     "name": "stderr",
     "output_type": "stream",
     "text": [
      "[*********************100%***********************]  1 of 1 completed\n",
      "[*********************100%***********************]  1 of 1 completed\n"
     ]
    },
    {
     "data": {
      "text/html": [
       "<div>\n",
       "<style scoped>\n",
       "    .dataframe tbody tr th:only-of-type {\n",
       "        vertical-align: middle;\n",
       "    }\n",
       "\n",
       "    .dataframe tbody tr th {\n",
       "        vertical-align: top;\n",
       "    }\n",
       "\n",
       "    .dataframe thead th {\n",
       "        text-align: right;\n",
       "    }\n",
       "</style>\n",
       "<table border=\"1\" class=\"dataframe\">\n",
       "  <thead>\n",
       "    <tr style=\"text-align: right;\">\n",
       "      <th></th>\n",
       "      <th>PG</th>\n",
       "      <th>BEI.DE</th>\n",
       "    </tr>\n",
       "    <tr>\n",
       "      <th>Date</th>\n",
       "      <th></th>\n",
       "      <th></th>\n",
       "    </tr>\n",
       "  </thead>\n",
       "  <tbody>\n",
       "    <tr>\n",
       "      <th>2025-06-17</th>\n",
       "      <td>158.520004</td>\n",
       "      <td>109.699997</td>\n",
       "    </tr>\n",
       "    <tr>\n",
       "      <th>2025-06-18</th>\n",
       "      <td>158.020004</td>\n",
       "      <td>107.349998</td>\n",
       "    </tr>\n",
       "    <tr>\n",
       "      <th>2025-06-20</th>\n",
       "      <td>159.080002</td>\n",
       "      <td>106.500000</td>\n",
       "    </tr>\n",
       "    <tr>\n",
       "      <th>2025-06-23</th>\n",
       "      <td>161.029999</td>\n",
       "      <td>107.250000</td>\n",
       "    </tr>\n",
       "    <tr>\n",
       "      <th>2025-06-24</th>\n",
       "      <td>160.360001</td>\n",
       "      <td>108.099998</td>\n",
       "    </tr>\n",
       "  </tbody>\n",
       "</table>\n",
       "</div>"
      ],
      "text/plain": [
       "                    PG      BEI.DE\n",
       "Date                              \n",
       "2025-06-17  158.520004  109.699997\n",
       "2025-06-18  158.020004  107.349998\n",
       "2025-06-20  159.080002  106.500000\n",
       "2025-06-23  161.029999  107.250000\n",
       "2025-06-24  160.360001  108.099998"
      ]
     },
     "execution_count": 2,
     "metadata": {},
     "output_type": "execute_result"
    }
   ],
   "source": [
    "tickers = ['PG', 'BEI.DE']\n",
    "\n",
    "security_data = pd.DataFrame()\n",
    "\n",
    "for t in tickers:\n",
    "    security_data[t] = yf.download(t, start='2007-1-1', auto_adjust=False)['Adj Close']\n",
    "\n",
    "security_data.tail()"
   ]
  },
  {
   "cell_type": "code",
   "execution_count": 3,
   "metadata": {},
   "outputs": [
    {
     "data": {
      "text/html": [
       "<div>\n",
       "<style scoped>\n",
       "    .dataframe tbody tr th:only-of-type {\n",
       "        vertical-align: middle;\n",
       "    }\n",
       "\n",
       "    .dataframe tbody tr th {\n",
       "        vertical-align: top;\n",
       "    }\n",
       "\n",
       "    .dataframe thead th {\n",
       "        text-align: right;\n",
       "    }\n",
       "</style>\n",
       "<table border=\"1\" class=\"dataframe\">\n",
       "  <thead>\n",
       "    <tr style=\"text-align: right;\">\n",
       "      <th></th>\n",
       "      <th>PG</th>\n",
       "      <th>BEI.DE</th>\n",
       "    </tr>\n",
       "    <tr>\n",
       "      <th>Date</th>\n",
       "      <th></th>\n",
       "      <th></th>\n",
       "    </tr>\n",
       "  </thead>\n",
       "  <tbody>\n",
       "    <tr>\n",
       "      <th>2007-01-03</th>\n",
       "      <td>NaN</td>\n",
       "      <td>NaN</td>\n",
       "    </tr>\n",
       "    <tr>\n",
       "      <th>2007-01-04</th>\n",
       "      <td>-0.007621</td>\n",
       "      <td>0.006544</td>\n",
       "    </tr>\n",
       "    <tr>\n",
       "      <th>2007-01-05</th>\n",
       "      <td>-0.008624</td>\n",
       "      <td>-0.020772</td>\n",
       "    </tr>\n",
       "    <tr>\n",
       "      <th>2007-01-08</th>\n",
       "      <td>0.002202</td>\n",
       "      <td>0.000202</td>\n",
       "    </tr>\n",
       "    <tr>\n",
       "      <th>2007-01-09</th>\n",
       "      <td>-0.002517</td>\n",
       "      <td>-0.022858</td>\n",
       "    </tr>\n",
       "    <tr>\n",
       "      <th>...</th>\n",
       "      <td>...</td>\n",
       "      <td>...</td>\n",
       "    </tr>\n",
       "    <tr>\n",
       "      <th>2025-06-17</th>\n",
       "      <td>-0.014778</td>\n",
       "      <td>-0.007719</td>\n",
       "    </tr>\n",
       "    <tr>\n",
       "      <th>2025-06-18</th>\n",
       "      <td>-0.003159</td>\n",
       "      <td>-0.021655</td>\n",
       "    </tr>\n",
       "    <tr>\n",
       "      <th>2025-06-20</th>\n",
       "      <td>0.006686</td>\n",
       "      <td>-0.007950</td>\n",
       "    </tr>\n",
       "    <tr>\n",
       "      <th>2025-06-23</th>\n",
       "      <td>0.012183</td>\n",
       "      <td>0.007018</td>\n",
       "    </tr>\n",
       "    <tr>\n",
       "      <th>2025-06-24</th>\n",
       "      <td>-0.004169</td>\n",
       "      <td>0.007894</td>\n",
       "    </tr>\n",
       "  </tbody>\n",
       "</table>\n",
       "<p>4648 rows × 2 columns</p>\n",
       "</div>"
      ],
      "text/plain": [
       "                  PG    BEI.DE\n",
       "Date                          \n",
       "2007-01-03       NaN       NaN\n",
       "2007-01-04 -0.007621  0.006544\n",
       "2007-01-05 -0.008624 -0.020772\n",
       "2007-01-08  0.002202  0.000202\n",
       "2007-01-09 -0.002517 -0.022858\n",
       "...              ...       ...\n",
       "2025-06-17 -0.014778 -0.007719\n",
       "2025-06-18 -0.003159 -0.021655\n",
       "2025-06-20  0.006686 -0.007950\n",
       "2025-06-23  0.012183  0.007018\n",
       "2025-06-24 -0.004169  0.007894\n",
       "\n",
       "[4648 rows x 2 columns]"
      ]
     },
     "execution_count": 3,
     "metadata": {},
     "output_type": "execute_result"
    }
   ],
   "source": [
    "# We take the log return because we examine each company separately in the timeframe\n",
    "# This approach will tell us more about the independant behavior of each stock\n",
    "security_returns = np.log(security_data / security_data.shift(1))\n",
    "security_returns"
   ]
  },
  {
   "cell_type": "markdown",
   "metadata": {},
   "source": [
    "### PG"
   ]
  },
  {
   "cell_type": "code",
   "execution_count": 4,
   "metadata": {},
   "outputs": [
    {
     "name": "stdout",
     "output_type": "stream",
     "text": [
      "PG average daily return: 0.00030902461645240906\n",
      "PG average annual return: 0.07725615411310227\n",
      "PG daily standard deviation of return: 0.011673526898691531\n",
      "PG annual standard deviation return: 0.18457466663553446\n"
     ]
    }
   ],
   "source": [
    "print(f'PG average daily return: {security_returns['PG'].mean()}')\n",
    "print(f'PG average annual return: {security_returns['PG'].mean() * 250}')\n",
    "print(f'PG daily standard deviation of return: {security_returns['PG'].std()}')\n",
    "print(f'PG annual standard deviation return: {security_returns['PG'].std() * 250 ** 0.5}')"
   ]
  },
  {
   "cell_type": "markdown",
   "metadata": {},
   "source": [
    "### Beiersdorf"
   ]
  },
  {
   "cell_type": "code",
   "execution_count": 5,
   "metadata": {},
   "outputs": [
    {
     "name": "stdout",
     "output_type": "stream",
     "text": [
      "BEI.DE average daily return: 0.0001954908431880639\n",
      "BEI.DE average annual return: 0.048872710797015974\n",
      "BEI.DE daily standard deviation of return: 0.013483191875342354\n",
      "BEI.DE annual standard deviation return: 0.2131879822757946\n"
     ]
    }
   ],
   "source": [
    "print(f'BEI.DE average daily return: {security_returns['BEI.DE'].mean()}')\n",
    "print(f'BEI.DE average annual return: {security_returns['BEI.DE'].mean() * 250}')\n",
    "print(f'BEI.DE daily standard deviation of return: {security_returns['BEI.DE'].std()}')\n",
    "print(f'BEI.DE annual standard deviation return: {security_returns['BEI.DE'].std() * 250 ** 0.5}')"
   ]
  },
  {
   "cell_type": "markdown",
   "metadata": {},
   "source": [
    "### Benefits of Portfolio Diversification\n",
    "There is a relationship between the prices of companies. While share prices are influenced by the state of the economy, the state of the economy impacts different industries in different ways. For instance, during a recession, it's easier to wait for a new car than wait to buy groceries, so Ford might be hit harder than Walmart."
   ]
  },
  {
   "cell_type": "markdown",
   "metadata": {},
   "source": [
    "### Measuring the relationship between stocks\n",
    "Covariance measures the direction and strength of a linear relationship between two cariables in their original units\n",
    "<br><img src='assets/covariance.png'><br>\n",
    "<br>\n",
    "Correlation coefficient is a standardized version of covariance that scales the value to a range between -1 and +1 (hence the std dev of x and y on the bottom)\n",
    "<br><img src='assets/correlation_coefficient.png'><br>"
   ]
  },
  {
   "cell_type": "markdown",
   "metadata": {},
   "source": [
    "A perfect correlation (+1) would imply house prices are directly proportionalte to house size, or that population density is directly proportionate to socioeconomic status, etc. A negative correlation (-1) would imply INVERSE proportionality - i.e house prices go up as the size of the house goes down (yes, that would be weird). No correlation (0) would imply the variables are absolutely independent of each other, such as the price of coffee in brazil vs the price of a house in london.\n",
    "\n",
    "<br>\n",
    "\n",
    "A Covariance Matrix is a representation of the way two or more variables relate to each other. The covariance of a variable with itself is just its variance - ie. cov(x,x) = var(x). When looking at a Covariance Matrix, the diagonal line from top-left to bottom-right is just the variances of each variable while all other values are covariances\n",
    "<br><br>\n",
    "<img src='assets/covariance_matrix.png'>"
   ]
  },
  {
   "cell_type": "markdown",
   "metadata": {},
   "source": [
    "### Calculating Covariance and Correlation"
   ]
  },
  {
   "cell_type": "code",
   "execution_count": 8,
   "metadata": {},
   "outputs": [
    {
     "data": {
      "text/plain": [
       "np.float64(0.0001362712302544747)"
      ]
     },
     "execution_count": 8,
     "metadata": {},
     "output_type": "execute_result"
    }
   ],
   "source": [
    "# THANKFULLY pd.DataFrame.var() GETS THE VARIANCE FOR US! GOD BLESS AMERICA\n",
    "pg_variance = security_returns['PG'].var()\n",
    "pg_variance"
   ]
  },
  {
   "cell_type": "code",
   "execution_count": 9,
   "metadata": {},
   "outputs": [
    {
     "data": {
      "text/plain": [
       "np.float64(0.0001817964631472981)"
      ]
     },
     "execution_count": 9,
     "metadata": {},
     "output_type": "execute_result"
    }
   ],
   "source": [
    "bei_variance = security_returns['BEI.DE'].var()\n",
    "bei_variance"
   ]
  },
  {
   "cell_type": "code",
   "execution_count": 10,
   "metadata": {},
   "outputs": [
    {
     "data": {
      "text/plain": [
       "np.float64(0.03406780756361868)"
      ]
     },
     "execution_count": 10,
     "metadata": {},
     "output_type": "execute_result"
    }
   ],
   "source": [
    "pg_annual_variance = pg_variance * 250\n",
    "pg_annual_variance"
   ]
  },
  {
   "cell_type": "code",
   "execution_count": 11,
   "metadata": {},
   "outputs": [
    {
     "data": {
      "text/plain": [
       "np.float64(0.04544911578682452)"
      ]
     },
     "execution_count": 11,
     "metadata": {},
     "output_type": "execute_result"
    }
   ],
   "source": [
    "bei_annual_variance = bei_variance * 250\n",
    "bei_annual_variance"
   ]
  },
  {
   "cell_type": "code",
   "execution_count": 12,
   "metadata": {},
   "outputs": [
    {
     "data": {
      "text/html": [
       "<div>\n",
       "<style scoped>\n",
       "    .dataframe tbody tr th:only-of-type {\n",
       "        vertical-align: middle;\n",
       "    }\n",
       "\n",
       "    .dataframe tbody tr th {\n",
       "        vertical-align: top;\n",
       "    }\n",
       "\n",
       "    .dataframe thead th {\n",
       "        text-align: right;\n",
       "    }\n",
       "</style>\n",
       "<table border=\"1\" class=\"dataframe\">\n",
       "  <thead>\n",
       "    <tr style=\"text-align: right;\">\n",
       "      <th></th>\n",
       "      <th>PG</th>\n",
       "      <th>BEI.DE</th>\n",
       "    </tr>\n",
       "  </thead>\n",
       "  <tbody>\n",
       "    <tr>\n",
       "      <th>PG</th>\n",
       "      <td>0.000136</td>\n",
       "      <td>0.000041</td>\n",
       "    </tr>\n",
       "    <tr>\n",
       "      <th>BEI.DE</th>\n",
       "      <td>0.000041</td>\n",
       "      <td>0.000182</td>\n",
       "    </tr>\n",
       "  </tbody>\n",
       "</table>\n",
       "</div>"
      ],
      "text/plain": [
       "              PG    BEI.DE\n",
       "PG      0.000136  0.000041\n",
       "BEI.DE  0.000041  0.000182"
      ]
     },
     "execution_count": 12,
     "metadata": {},
     "output_type": "execute_result"
    }
   ],
   "source": [
    "# HOLY SHIT! pd.DataFrame.cov() COMPUTES PAIRWISE COVARIANCE OF COLUMNS! WE ARE SO BLESSED\n",
    "cov_matrix = security_returns.cov()\n",
    "cov_matrix"
   ]
  },
  {
   "cell_type": "code",
   "execution_count": 13,
   "metadata": {},
   "outputs": [
    {
     "data": {
      "text/html": [
       "<div>\n",
       "<style scoped>\n",
       "    .dataframe tbody tr th:only-of-type {\n",
       "        vertical-align: middle;\n",
       "    }\n",
       "\n",
       "    .dataframe tbody tr th {\n",
       "        vertical-align: top;\n",
       "    }\n",
       "\n",
       "    .dataframe thead th {\n",
       "        text-align: right;\n",
       "    }\n",
       "</style>\n",
       "<table border=\"1\" class=\"dataframe\">\n",
       "  <thead>\n",
       "    <tr style=\"text-align: right;\">\n",
       "      <th></th>\n",
       "      <th>PG</th>\n",
       "      <th>BEI.DE</th>\n",
       "    </tr>\n",
       "  </thead>\n",
       "  <tbody>\n",
       "    <tr>\n",
       "      <th>PG</th>\n",
       "      <td>0.034068</td>\n",
       "      <td>0.010324</td>\n",
       "    </tr>\n",
       "    <tr>\n",
       "      <th>BEI.DE</th>\n",
       "      <td>0.010324</td>\n",
       "      <td>0.045449</td>\n",
       "    </tr>\n",
       "  </tbody>\n",
       "</table>\n",
       "</div>"
      ],
      "text/plain": [
       "              PG    BEI.DE\n",
       "PG      0.034068  0.010324\n",
       "BEI.DE  0.010324  0.045449"
      ]
     },
     "execution_count": 13,
     "metadata": {},
     "output_type": "execute_result"
    }
   ],
   "source": [
    "annual_cov_matrix = cov_matrix * 250\n",
    "annual_cov_matrix"
   ]
  },
  {
   "cell_type": "markdown",
   "metadata": {},
   "source": [
    "Note how the top-left and bottom-right are just the variances since it's the product of PG's cov with PG's cov and the product of Cov(BEI)xCov(BEI) (which are both just equal to Var(PG) and Var(BEI) respectively. Meanwhile the other two cells contain the actual covariance between the variables)"
   ]
  },
  {
   "cell_type": "code",
   "execution_count": 14,
   "metadata": {},
   "outputs": [
    {
     "data": {
      "text/html": [
       "<div>\n",
       "<style scoped>\n",
       "    .dataframe tbody tr th:only-of-type {\n",
       "        vertical-align: middle;\n",
       "    }\n",
       "\n",
       "    .dataframe tbody tr th {\n",
       "        vertical-align: top;\n",
       "    }\n",
       "\n",
       "    .dataframe thead th {\n",
       "        text-align: right;\n",
       "    }\n",
       "</style>\n",
       "<table border=\"1\" class=\"dataframe\">\n",
       "  <thead>\n",
       "    <tr style=\"text-align: right;\">\n",
       "      <th></th>\n",
       "      <th>PG</th>\n",
       "      <th>BEI.DE</th>\n",
       "    </tr>\n",
       "  </thead>\n",
       "  <tbody>\n",
       "    <tr>\n",
       "      <th>PG</th>\n",
       "      <td>1.000000</td>\n",
       "      <td>0.261842</td>\n",
       "    </tr>\n",
       "    <tr>\n",
       "      <th>BEI.DE</th>\n",
       "      <td>0.261842</td>\n",
       "      <td>1.000000</td>\n",
       "    </tr>\n",
       "  </tbody>\n",
       "</table>\n",
       "</div>"
      ],
      "text/plain": [
       "              PG    BEI.DE\n",
       "PG      1.000000  0.261842\n",
       "BEI.DE  0.261842  1.000000"
      ]
     },
     "execution_count": 14,
     "metadata": {},
     "output_type": "execute_result"
    }
   ],
   "source": [
    "# AND IF THAT WASN'T ENOUGH, .corr() COMPUTES PAIRWISE CORRELATIONS OF COLUMNS\n",
    "corr_matrix = security_returns.corr()\n",
    "corr_matrix"
   ]
  },
  {
   "cell_type": "markdown",
   "metadata": {},
   "source": [
    "Note that the correlation matrix shown above displays the correlation between the two asset's RETURNS not their PRICES. The difference between the two is:\n",
    "- corr(prices): focuses on stock price levels\n",
    "- corr(returns) {aka the correlation of the RATES of returns}: reflects the dependence between prices at different times and focuses on the returns of your portfolio\n",
    "\n",
    "<br>\n",
    "\n",
    "Also: don't annualize the correlation table as it does not contain avg daily values, but rather the relationship between the two variables"
   ]
  },
  {
   "cell_type": "markdown",
   "metadata": {},
   "source": [
    "### Portfolio Variance (The risk of multiple securities)\n",
    "Remember from algebra that: (a + b)<sup>2</sup> = a<sup>2</sup> + 2ab + b<sup>2</sup>\n",
    "<br>\n",
    "Well, calculating portfolio variance (with 2 stocks) is similar:"
   ]
  }
 ],
 "metadata": {
  "kernelspec": {
   "display_name": "venv",
   "language": "python",
   "name": "python3"
  },
  "language_info": {
   "codemirror_mode": {
    "name": "ipython",
    "version": 3
   },
   "file_extension": ".py",
   "mimetype": "text/x-python",
   "name": "python",
   "nbconvert_exporter": "python",
   "pygments_lexer": "ipython3",
   "version": "3.13.2"
  }
 },
 "nbformat": 4,
 "nbformat_minor": 2
}
