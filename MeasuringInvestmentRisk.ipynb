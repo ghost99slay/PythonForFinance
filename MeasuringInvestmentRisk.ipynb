{
 "cells": [
  {
   "cell_type": "code",
   "execution_count": 1,
   "metadata": {
    "colab": {
     "base_uri": "https://localhost:8080/",
     "height": 365
    },
    "executionInfo": {
     "elapsed": 121545,
     "status": "error",
     "timestamp": 1751308645505,
     "user": {
      "displayName": "Adam Moore",
      "userId": "00958469553420330640"
     },
     "user_tz": 240
    },
    "id": "J6bZG4yDSOy8",
    "outputId": "03fade31-5da0-4af3-ebfd-7568a3297d8f"
   },
   "outputs": [
    {
     "ename": "ModuleNotFoundError",
     "evalue": "No module named 'google.colab'",
     "output_type": "error",
     "traceback": [
      "\u001b[31m---------------------------------------------------------------------------\u001b[39m",
      "\u001b[31mModuleNotFoundError\u001b[39m                       Traceback (most recent call last)",
      "\u001b[36mCell\u001b[39m\u001b[36m \u001b[39m\u001b[32mIn[1]\u001b[39m\u001b[32m, line 1\u001b[39m\n\u001b[32m----> \u001b[39m\u001b[32m1\u001b[39m \u001b[38;5;28;01mfrom\u001b[39;00m\u001b[38;5;250m \u001b[39m\u001b[34;01mgoogle\u001b[39;00m\u001b[34;01m.\u001b[39;00m\u001b[34;01mcolab\u001b[39;00m\u001b[38;5;250m \u001b[39m\u001b[38;5;28;01mimport\u001b[39;00m drive\n\u001b[32m      2\u001b[39m drive.mount(\u001b[33m'\u001b[39m\u001b[33m/content/drive\u001b[39m\u001b[33m'\u001b[39m)\n\u001b[32m      4\u001b[39m \u001b[38;5;28;01mfrom\u001b[39;00m\u001b[38;5;250m \u001b[39m\u001b[34;01mIPython\u001b[39;00m\u001b[34;01m.\u001b[39;00m\u001b[34;01mdisplay\u001b[39;00m\u001b[38;5;250m \u001b[39m\u001b[38;5;28;01mimport\u001b[39;00m display\n",
      "\u001b[31mModuleNotFoundError\u001b[39m: No module named 'google.colab'"
     ]
    }
   ],
   "source": [
    "from google.colab import drive\n",
    "drive.mount('/content/drive')\n",
    "\n",
    "from IPython.display import display\n",
    "from PIL import Image\n",
    "\n",
    "PATH = '/content/drive/MyDrive/Documents/Colab Notebooks/PythonForFinance/'"
   ]
  },
  {
   "cell_type": "markdown",
   "metadata": {
    "id": "ufi4zRHqM8TZ"
   },
   "source": [
    "### What is risk?\n",
    "Variability is the best measure of risk we have. Imagine you invest $1000 in a stock that earns ON AVERAGE 15%/year. How did that 15% come about? Was it:\n",
    "- +14%, +16%, +13%, +17%\n",
    "<br><br>OR<br><br>\n",
    "- +50%, -40%, -40%, +50%\n",
    "<br><br>\n",
    "Notice that those both yield an average of 15%, but the way each stock got there was vastly different. In the first case, your money will earn a stable amount over time. In the second, there's large variability from year to year.\n",
    "<br>\n",
    "Note: this is the variability of the return. So if the variability is 3%, but the avg rate of return is 15%, then you can expect an actual return of 15% +/- 3% on any given year"
   ]
  },
  {
   "cell_type": "markdown",
   "metadata": {
    "id": "MTeJV5MtM8TZ"
   },
   "source": [
    "### Statistical Measures to Quantify Risk\n",
    "\n",
    "- Variance (S<sup>2</sup>) - Measures the dispersion of a set of data points around the mean (X bar is the mean) <br>\n",
    "- Standard Devation (S) - The square root of variance, it measures the average distance of data points from the mean"
   ]
  },
  {
   "cell_type": "code",
   "execution_count": null,
   "metadata": {
    "colab": {
     "base_uri": "https://localhost:8080/",
     "height": 145
    },
    "executionInfo": {
     "elapsed": 577,
     "status": "ok",
     "timestamp": 1751301238550,
     "user": {
      "displayName": "Adam Moore",
      "userId": "00958469553420330640"
     },
     "user_tz": 240
    },
    "id": "R7JdCXtGr1Cr",
    "outputId": "10ffe592-67a6-49b6-9dd6-890a2cf90f1c"
   },
   "outputs": [],
   "source": [
    "img = Image.open(PATH + 'assets/variance_equation.png')\n",
    "display(img)"
   ]
  },
  {
   "cell_type": "code",
   "execution_count": null,
   "metadata": {
    "id": "4oU0L81YM8Ta"
   },
   "outputs": [],
   "source": [
    "import numpy as np\n",
    "import pandas as pd\n",
    "import yfinance as yf\n",
    "import matplotlib as plt"
   ]
  },
  {
   "cell_type": "code",
   "execution_count": null,
   "metadata": {
    "colab": {
     "base_uri": "https://localhost:8080/",
     "height": 272
    },
    "executionInfo": {
     "elapsed": 1246,
     "status": "ok",
     "timestamp": 1751300043079,
     "user": {
      "displayName": "Adam Moore",
      "userId": "00958469553420330640"
     },
     "user_tz": 240
    },
    "id": "YcvUT9y-M8Ta",
    "outputId": "b92ab888-ff88-49f5-842e-a4e1a03fd788"
   },
   "outputs": [],
   "source": [
    "tickers = ['PG', 'BEI.DE']\n",
    "\n",
    "security_data = pd.DataFrame()\n",
    "\n",
    "for t in tickers:\n",
    "    security_data[t] = yf.download(t, start='2007-1-1', auto_adjust=False)['Adj Close']\n",
    "\n",
    "security_data.tail()"
   ]
  },
  {
   "cell_type": "code",
   "execution_count": null,
   "metadata": {
    "colab": {
     "base_uri": "https://localhost:8080/",
     "height": 455
    },
    "executionInfo": {
     "elapsed": 63,
     "status": "ok",
     "timestamp": 1751300043143,
     "user": {
      "displayName": "Adam Moore",
      "userId": "00958469553420330640"
     },
     "user_tz": 240
    },
    "id": "YLijXErDM8Ta",
    "outputId": "2e6dd9c3-dcc0-482d-fbb2-c9f2d3384326"
   },
   "outputs": [],
   "source": [
    "# We take the log return because we examine each company separately in the timeframe\n",
    "# This approach will tell us more about the independant behavior of each stock\n",
    "security_returns = np.log(security_data / security_data.shift(1))\n",
    "security_returns"
   ]
  },
  {
   "cell_type": "markdown",
   "metadata": {
    "id": "rW8MmghzM8Ta"
   },
   "source": [
    "### PG"
   ]
  },
  {
   "cell_type": "code",
   "execution_count": null,
   "metadata": {
    "colab": {
     "base_uri": "https://localhost:8080/"
    },
    "executionInfo": {
     "elapsed": 3,
     "status": "ok",
     "timestamp": 1751300043147,
     "user": {
      "displayName": "Adam Moore",
      "userId": "00958469553420330640"
     },
     "user_tz": 240
    },
    "id": "scQR9bDtM8Tb",
    "outputId": "d293f4f6-4cc4-4d3a-d2c3-778351223bf0"
   },
   "outputs": [],
   "source": [
    "print(f\"PG average daily return: {security_returns['PG'].mean()}\")\n",
    "print(f\"PG average annual return: {security_returns['PG'].mean() * 250}\")\n",
    "print(f\"PG daily standard deviation of return: {security_returns['PG'].std()}\")\n",
    "print(f\"PG annual standard deviation return: {security_returns['PG'].std() * 250 ** 0.5}\")"
   ]
  },
  {
   "cell_type": "markdown",
   "metadata": {
    "id": "F5SPNHjTM8Tb"
   },
   "source": [
    "### Beiersdorf"
   ]
  },
  {
   "cell_type": "code",
   "execution_count": null,
   "metadata": {
    "colab": {
     "base_uri": "https://localhost:8080/"
    },
    "executionInfo": {
     "elapsed": 9,
     "status": "ok",
     "timestamp": 1751300043157,
     "user": {
      "displayName": "Adam Moore",
      "userId": "00958469553420330640"
     },
     "user_tz": 240
    },
    "id": "n3l6i_JQM8Tb",
    "outputId": "3ab74bae-ff45-4d19-8053-a585ce0e3440"
   },
   "outputs": [],
   "source": [
    "print(f'BEI.DE average daily return: {security_returns[\"BEI.DE\"].mean()}')\n",
    "print(f'BEI.DE average annual return: {security_returns[\"BEI.DE\"].mean() * 250}')\n",
    "print(f'BEI.DE daily standard deviation of return: {security_returns[\"BEI.DE\"].std()}')\n",
    "print(f'BEI.DE annual standard deviation return: {security_returns[\"BEI.DE\"].std() * 250 ** 0.5}')"
   ]
  },
  {
   "cell_type": "markdown",
   "metadata": {
    "id": "aqDKVchlM8Tb"
   },
   "source": [
    "### Benefits of Portfolio Diversification\n",
    "There is a relationship between the prices of companies. While share prices are influenced by the state of the economy, the state of the economy impacts different industries in different ways. For instance, during a recession, it's easier to wait for a new car than wait to buy groceries, so Ford might be hit harder than Walmart."
   ]
  },
  {
   "cell_type": "markdown",
   "metadata": {
    "id": "UpzGxLg5M8Tb"
   },
   "source": [
    "### Measuring the relationship between stocks\n",
    "Covariance measures the direction and strength of a linear relationship between two variables in their original units<br>\n",
    "<br>\n",
    "Correlation coefficient is a standardized version of covariance that scales the value to a range between -1 and +1 (hence the std dev of x and y on the bottom)\n",
    "<br>\n"
   ]
  },
  {
   "cell_type": "code",
   "execution_count": null,
   "metadata": {
    "colab": {
     "base_uri": "https://localhost:8080/",
     "height": 273
    },
    "executionInfo": {
     "elapsed": 569,
     "status": "ok",
     "timestamp": 1751300303006,
     "user": {
      "displayName": "Adam Moore",
      "userId": "00958469553420330640"
     },
     "user_tz": 240
    },
    "id": "BcjHw5qxnCW2",
    "outputId": "72c39139-bbd9-40b2-9685-00b124b78f9c"
   },
   "outputs": [],
   "source": [
    "img = Image.open(PATH + 'assets/covariance.png')\n",
    "display(img)\n",
    "img = Image.open(PATH + 'assets/correlation_coefficient.png')\n",
    "display(img)"
   ]
  },
  {
   "cell_type": "markdown",
   "metadata": {
    "id": "ZZC2xxBbM8Tb"
   },
   "source": [
    "A perfect correlation (+1) would imply house prices are directly proportionalte to house size, or that population density is directly proportionate to socioeconomic status, etc. A negative correlation (-1) would imply INVERSE proportionality - i.e house prices go up as the size of the house goes down (yes, that would be weird). No correlation (0) would imply the variables are absolutely independent of each other, such as the price of coffee in brazil vs the price of a house in london.\n",
    "\n",
    "<br>\n",
    "\n",
    "A Covariance Matrix is a representation of the way two or more variables relate to each other. The covariance of a variable with itself is just its variance - ie. cov(x,x) = var(x). When looking at a Covariance Matrix, the diagonal line from top-left to bottom-right is just the variances of each variable while all other values are covariances\n",
    "<br><br>"
   ]
  },
  {
   "cell_type": "code",
   "execution_count": null,
   "metadata": {
    "colab": {
     "base_uri": "https://localhost:8080/",
     "height": 175
    },
    "executionInfo": {
     "elapsed": 603,
     "status": "ok",
     "timestamp": 1751300248787,
     "user": {
      "displayName": "Adam Moore",
      "userId": "00958469553420330640"
     },
     "user_tz": 240
    },
    "id": "tI07F7dQoPpP",
    "outputId": "4a63b585-4b51-400c-c3ac-defcd089bf23"
   },
   "outputs": [],
   "source": [
    "img = Image.open(PATH + 'assets/covariance_matrix.png')\n",
    "display(img)"
   ]
  },
  {
   "cell_type": "markdown",
   "metadata": {
    "id": "1MWJt5ewM8Tb"
   },
   "source": [
    "### Calculating Covariance and Correlation"
   ]
  },
  {
   "cell_type": "code",
   "execution_count": null,
   "metadata": {
    "colab": {
     "base_uri": "https://localhost:8080/"
    },
    "executionInfo": {
     "elapsed": 6,
     "status": "ok",
     "timestamp": 1751300045912,
     "user": {
      "displayName": "Adam Moore",
      "userId": "00958469553420330640"
     },
     "user_tz": 240
    },
    "id": "eZ81c2VKM8Tb",
    "outputId": "f2eb40d8-3ecc-4fd2-d984-0c9b968e3c42"
   },
   "outputs": [],
   "source": [
    "# THANKFULLY pd.DataFrame.var() GETS THE VARIANCE FOR US! GOD BLESS AMERICA\n",
    "pg_variance = security_returns['PG'].var()\n",
    "pg_variance"
   ]
  },
  {
   "cell_type": "code",
   "execution_count": null,
   "metadata": {
    "colab": {
     "base_uri": "https://localhost:8080/"
    },
    "executionInfo": {
     "elapsed": 3,
     "status": "ok",
     "timestamp": 1751300045916,
     "user": {
      "displayName": "Adam Moore",
      "userId": "00958469553420330640"
     },
     "user_tz": 240
    },
    "id": "qtj_RykBM8Tb",
    "outputId": "c31291f7-c053-498f-f45e-ee08f3d383ca"
   },
   "outputs": [],
   "source": [
    "bei_variance = security_returns['BEI.DE'].var()\n",
    "bei_variance"
   ]
  },
  {
   "cell_type": "code",
   "execution_count": null,
   "metadata": {
    "colab": {
     "base_uri": "https://localhost:8080/"
    },
    "executionInfo": {
     "elapsed": 3,
     "status": "ok",
     "timestamp": 1751300045920,
     "user": {
      "displayName": "Adam Moore",
      "userId": "00958469553420330640"
     },
     "user_tz": 240
    },
    "id": "OJ9-4GY3M8Tb",
    "outputId": "8c5c494f-583b-41af-f2c9-85479c039e97"
   },
   "outputs": [],
   "source": [
    "pg_annual_variance = pg_variance * 250\n",
    "pg_annual_variance"
   ]
  },
  {
   "cell_type": "code",
   "execution_count": null,
   "metadata": {
    "colab": {
     "base_uri": "https://localhost:8080/"
    },
    "executionInfo": {
     "elapsed": 2,
     "status": "ok",
     "timestamp": 1751300045921,
     "user": {
      "displayName": "Adam Moore",
      "userId": "00958469553420330640"
     },
     "user_tz": 240
    },
    "id": "2ChWdsmRM8Tb",
    "outputId": "f5cade49-8421-449f-a06a-7b4b65651a98"
   },
   "outputs": [],
   "source": [
    "bei_annual_variance = bei_variance * 250\n",
    "bei_annual_variance"
   ]
  },
  {
   "cell_type": "code",
   "execution_count": null,
   "metadata": {
    "colab": {
     "base_uri": "https://localhost:8080/",
     "height": 125
    },
    "executionInfo": {
     "elapsed": 41,
     "status": "ok",
     "timestamp": 1751300045962,
     "user": {
      "displayName": "Adam Moore",
      "userId": "00958469553420330640"
     },
     "user_tz": 240
    },
    "id": "ZEbzzufFM8Tb",
    "outputId": "94115d53-fe24-4d87-e5fc-41df095253a0"
   },
   "outputs": [],
   "source": [
    "# HOLY SHIT! pd.DataFrame.cov() COMPUTES PAIRWISE COVARIANCE OF COLUMNS! WE ARE SO BLESSED\n",
    "cov_matrix = security_returns.cov()\n",
    "cov_matrix"
   ]
  },
  {
   "cell_type": "code",
   "execution_count": null,
   "metadata": {
    "colab": {
     "base_uri": "https://localhost:8080/",
     "height": 125
    },
    "executionInfo": {
     "elapsed": 13,
     "status": "ok",
     "timestamp": 1751300045975,
     "user": {
      "displayName": "Adam Moore",
      "userId": "00958469553420330640"
     },
     "user_tz": 240
    },
    "id": "M2wiMogTM8Tc",
    "outputId": "a3782f79-7e64-4b03-9569-e624d2b51772"
   },
   "outputs": [],
   "source": [
    "annual_cov_matrix = cov_matrix * 250\n",
    "annual_cov_matrix"
   ]
  },
  {
   "cell_type": "markdown",
   "metadata": {
    "id": "4fDEtRqdM8Tc"
   },
   "source": [
    "Note how the top-left and bottom-right are just the variances since it's the product of PG's cov with PG's cov and the product of Cov(BEI)xCov(BEI) (which are both just equal to Var(PG) and Var(BEI) respectively. Meanwhile the other two cells contain the actual covariance between the variables)"
   ]
  },
  {
   "cell_type": "code",
   "execution_count": null,
   "metadata": {
    "colab": {
     "base_uri": "https://localhost:8080/",
     "height": 125
    },
    "executionInfo": {
     "elapsed": 14,
     "status": "ok",
     "timestamp": 1751300045990,
     "user": {
      "displayName": "Adam Moore",
      "userId": "00958469553420330640"
     },
     "user_tz": 240
    },
    "id": "uxc0-3aoM8Tc",
    "outputId": "9e11b6c7-a6cd-4e9c-f46c-4a1811fb5669"
   },
   "outputs": [],
   "source": [
    "# AND IF THAT WASN'T ENOUGH, .corr() COMPUTES PAIRWISE CORRELATIONS OF COLUMNS\n",
    "corr_matrix = security_returns.corr()\n",
    "corr_matrix"
   ]
  },
  {
   "cell_type": "markdown",
   "metadata": {
    "id": "sbhLYI8TM8Tc"
   },
   "source": [
    "Note that the correlation matrix shown above displays the correlation between the two asset's RETURNS not their PRICES. The difference between the two is:\n",
    "- corr(prices): focuses on stock price levels\n",
    "- corr(returns) {aka the correlation of the RATES of returns}: reflects the dependence between prices at different times and focuses on the returns of your portfolio\n",
    "\n",
    "<br>\n",
    "\n",
    "Also: don't annualize the correlation table as it does not contain avg daily values, but rather the relationship between the two variables"
   ]
  },
  {
   "cell_type": "markdown",
   "metadata": {
    "id": "PHNCDx5BM8Tc"
   },
   "source": [
    "### Portfolio Variance (The risk of multiple securities)\n",
    "Remember from algebra that: (a + b)<sup>2</sup> = a<sup>2</sup> + 2ab + b<sup>2</sup>\n",
    "<br><br>\n",
    "Well, calculating portfolio variance (with 2 stocks) is similar. Where w's are the weights of each stock (ie. .5 and .5 if you have the same amount invested in the 1st stock as the 2nd, or perhaps .7 and .3), which always add up to 1, and the sigmas are the std dev of each stock:\n",
    "<br>\n",
    "\n",
    "\n"
   ]
  },
  {
   "cell_type": "code",
   "execution_count": null,
   "metadata": {
    "colab": {
     "base_uri": "https://localhost:8080/",
     "height": 171
    },
    "executionInfo": {
     "elapsed": 731,
     "status": "ok",
     "timestamp": 1751300350616,
     "user": {
      "displayName": "Adam Moore",
      "userId": "00958469553420330640"
     },
     "user_tz": 240
    },
    "id": "GsZOSFlaooFV",
    "outputId": "c81cf915-de60-47f2-861f-3d1d7e455d92"
   },
   "outputs": [],
   "source": [
    "img = Image.open(PATH + 'assets/portfolio_variance.png')\n",
    "display(img)"
   ]
  },
  {
   "cell_type": "markdown",
   "metadata": {
    "id": "eKJpx1twM8Tc"
   },
   "source": [
    "### Calculating Portfolio Risk"
   ]
  },
  {
   "cell_type": "code",
   "execution_count": null,
   "metadata": {
    "id": "TtlNgfs8M8Tc"
   },
   "outputs": [],
   "source": [
    "weights = np.array([0.5, 0.5]) # Representing an evenly weighted portfolio"
   ]
  },
  {
   "cell_type": "code",
   "execution_count": null,
   "metadata": {
    "colab": {
     "base_uri": "https://localhost:8080/"
    },
    "executionInfo": {
     "elapsed": 4,
     "status": "ok",
     "timestamp": 1751300045997,
     "user": {
      "displayName": "Adam Moore",
      "userId": "00958469553420330640"
     },
     "user_tz": 240
    },
    "id": "_o8Y2ZYwM8Tc",
    "outputId": "e22c700b-0c08-44d9-cb37-94b569cfb3b4"
   },
   "outputs": [],
   "source": [
    "portfolio_variance = np.dot(weights.T, np.dot(security_returns.cov() * 250, weights))\n",
    "portfolio_variance"
   ]
  },
  {
   "cell_type": "code",
   "execution_count": null,
   "metadata": {
    "colab": {
     "base_uri": "https://localhost:8080/"
    },
    "executionInfo": {
     "elapsed": 6,
     "status": "ok",
     "timestamp": 1751300046006,
     "user": {
      "displayName": "Adam Moore",
      "userId": "00958469553420330640"
     },
     "user_tz": 240
    },
    "id": "3rq6lAHLM8Tc",
    "outputId": "668f12ca-02ee-416c-8926-9c79152a6c4d"
   },
   "outputs": [],
   "source": [
    "portfolio_volatility = portfolio_variance ** 0.5\n",
    "portfolio_volatility"
   ]
  },
  {
   "cell_type": "code",
   "execution_count": null,
   "metadata": {
    "colab": {
     "base_uri": "https://localhost:8080/"
    },
    "executionInfo": {
     "elapsed": 2,
     "status": "ok",
     "timestamp": 1751300046007,
     "user": {
      "displayName": "Adam Moore",
      "userId": "00958469553420330640"
     },
     "user_tz": 240
    },
    "id": "Ss1ygcVcM8Tc",
    "outputId": "dc5fdf19-f699-4b6c-a595-fa8ec2886a94"
   },
   "outputs": [],
   "source": [
    "# aka\n",
    "print(str(round(portfolio_volatility, 5) * 100) + '%')"
   ]
  },
  {
   "cell_type": "markdown",
   "metadata": {
    "id": "Bo8bKkYdM8Tc"
   },
   "source": [
    "### The 2 Types of Investment Risk\n",
    "- Undiversifiable (Systematic) risk : This component depends on the variance of each individual security\n",
    "    - portfolio_variance - diversifiable_risk = sum(weighted variances)\n",
    "    - ie. no matter how many diverse assets you contain, you will never get rid of this kind of risk\n",
    "    - This is caused by things that affect whole markets like:\n",
    "        - Economic recession\n",
    "        - Low consumer spending\n",
    "        - Wars\n",
    "        - Forces of nature\n",
    "        - Etc\n",
    "- Diversifiable (Idiosyncratic) risk: This component depends on risk driven by company-specific events\n",
    "    - portfolio_variance - weighted annual variances\n",
    "    - Diversifiable risk can be eliminated if we invest in non-correlated assets\n",
    "        - ie. having assets in:\n",
    "            - Automotive\n",
    "            - Construction\n",
    "            - Energy\n",
    "            - Technology\n",
    "            - Etc\n",
    "\n",
    "\n",
    "This is why investment vehicles tracking indices like the S&P500 are well diversified"
   ]
  },
  {
   "cell_type": "markdown",
   "metadata": {
    "id": "z5tf3pc_M8Tc"
   },
   "source": [
    "### Calculating Diversifiable and Nondiversifiable Risk of a Portfolio"
   ]
  },
  {
   "cell_type": "code",
   "execution_count": null,
   "metadata": {
    "colab": {
     "base_uri": "https://localhost:8080/"
    },
    "executionInfo": {
     "elapsed": 5,
     "status": "ok",
     "timestamp": 1751300046014,
     "user": {
      "displayName": "Adam Moore",
      "userId": "00958469553420330640"
     },
     "user_tz": 240
    },
    "id": "p7ea-GmKM8Tc",
    "outputId": "72530307-03ee-4d0f-d306-29a6ee88c36b"
   },
   "outputs": [],
   "source": [
    "# Diversifiable Risk:\n",
    "print(weights)\n",
    "print(pg_annual_variance)\n",
    "print(bei_annual_variance)\n",
    "\n",
    "diversifiable_risk = portfolio_variance - (weights[0] ** 2 * pg_annual_variance) - (weights[1] ** 2 * bei_annual_variance)\n",
    "diversifiable_risk"
   ]
  },
  {
   "cell_type": "code",
   "execution_count": null,
   "metadata": {
    "colab": {
     "base_uri": "https://localhost:8080/"
    },
    "executionInfo": {
     "elapsed": 1,
     "status": "ok",
     "timestamp": 1751300046016,
     "user": {
      "displayName": "Adam Moore",
      "userId": "00958469553420330640"
     },
     "user_tz": 240
    },
    "id": "rXc15HJfM8Tc",
    "outputId": "21deff86-b65a-467e-e66a-2522beaab41f"
   },
   "outputs": [],
   "source": [
    "print(str(round(diversifiable_risk*100, 3)) + ' %')"
   ]
  },
  {
   "cell_type": "code",
   "execution_count": null,
   "metadata": {
    "colab": {
     "base_uri": "https://localhost:8080/"
    },
    "executionInfo": {
     "elapsed": 5,
     "status": "ok",
     "timestamp": 1751300046022,
     "user": {
      "displayName": "Adam Moore",
      "userId": "00958469553420330640"
     },
     "user_tz": 240
    },
    "id": "MzSLkQm-M8Tc",
    "outputId": "3bae2669-1077-47a9-b3bf-98863a0eb44f"
   },
   "outputs": [],
   "source": [
    "# Non-diversifiable Risk:\n",
    "non_diversifiable_risk_1 = portfolio_variance - diversifiable_risk\n",
    "non_diversifiable_risk_1"
   ]
  },
  {
   "cell_type": "code",
   "execution_count": null,
   "metadata": {
    "colab": {
     "base_uri": "https://localhost:8080/"
    },
    "executionInfo": {
     "elapsed": 3,
     "status": "ok",
     "timestamp": 1751300046025,
     "user": {
      "displayName": "Adam Moore",
      "userId": "00958469553420330640"
     },
     "user_tz": 240
    },
    "id": "M6y-sFpBM8Tc",
    "outputId": "983ecba9-c63d-4aec-a58f-e0618d0f995a"
   },
   "outputs": [],
   "source": [
    "non_diversifiable_risk_2 = (weights[0] ** 2 * pg_annual_variance) + (weights[1] ** 2 * bei_annual_variance)\n",
    "non_diversifiable_risk_2"
   ]
  },
  {
   "cell_type": "code",
   "execution_count": null,
   "metadata": {
    "colab": {
     "base_uri": "https://localhost:8080/"
    },
    "executionInfo": {
     "elapsed": 2,
     "status": "ok",
     "timestamp": 1751300046027,
     "user": {
      "displayName": "Adam Moore",
      "userId": "00958469553420330640"
     },
     "user_tz": 240
    },
    "id": "OJZhngdCM8Tc",
    "outputId": "c1f69948-0d93-4b90-ae37-5bafdd6ed53d"
   },
   "outputs": [],
   "source": [
    "non_diversifiable_risk_1 == non_diversifiable_risk_2"
   ]
  }
 ],
 "metadata": {
  "colab": {
   "provenance": []
  },
  "kernelspec": {
   "display_name": "venv",
   "language": "python",
   "name": "python3"
  },
  "language_info": {
   "codemirror_mode": {
    "name": "ipython",
    "version": 3
   },
   "file_extension": ".py",
   "mimetype": "text/x-python",
   "name": "python",
   "nbconvert_exporter": "python",
   "pygments_lexer": "ipython3",
   "version": "3.13.5"
  }
 },
 "nbformat": 4,
 "nbformat_minor": 0
}
